{
 "cells": [
  {
   "cell_type": "markdown",
   "id": "0ca0feb6-fbc6-40ea-b79f-31592eb0f702",
   "metadata": {},
   "source": [
    "Load config from file"
   ]
  },
  {
   "cell_type": "code",
   "execution_count": 51,
   "id": "b2730c5f-5a31-4c31-b1a9-5ac4040764d4",
   "metadata": {},
   "outputs": [
    {
     "name": "stdout",
     "output_type": "stream",
     "text": [
      "Config (path: configs/sample_base1.py): {'a': 1, 'b': {'b1': [0, 1, 2], 'b2': None}}\n"
     ]
    }
   ],
   "source": [
    "from mmcv import Config\n",
    "\n",
    "cfg = Config.fromfile('configs/sample_base1.py')\n",
    "print(cfg)"
   ]
  },
  {
   "cell_type": "code",
   "execution_count": 52,
   "id": "10acf85e-c435-427b-a947-7e8f3c5a7c7a",
   "metadata": {},
   "outputs": [
    {
     "name": "stdout",
     "output_type": "stream",
     "text": [
      "1\n",
      "{'b1': [0, 1, 2], 'b2': None}\n"
     ]
    }
   ],
   "source": [
    "print(cfg.a)\n",
    "print(cfg.b)"
   ]
  },
  {
   "cell_type": "markdown",
   "id": "ed3c5530-fb42-44a6-b95f-8f29f6c55d6b",
   "metadata": {},
   "source": [
    "You can inherit cfg using `_base_`.  \n",
    "New fields are combined with base.  \n",
    "Overlapped fields are replaced. If both are dict, base dict is updated.  \n",
    "If you want to replace the dict use `_delete_=True`.\n"
   ]
  },
  {
   "cell_type": "code",
   "execution_count": 53,
   "id": "019f9bdf-ee2d-4242-9c91-88591440d9a1",
   "metadata": {},
   "outputs": [
    {
     "name": "stdout",
     "output_type": "stream",
     "text": [
      "Config (path: configs/sample_config1.py): {'a': (1, 2), 'b': {'b1': [0, 1, 2], 'b2': 2, 'b3': 0.1}, 'c': 'new_string'}\n",
      "Config (path: configs/sample_config2.py): {'a': (1, 2), 'b': {'b2': 2, 'b3': 0.1}, 'c': 'new_string'}\n"
     ]
    }
   ],
   "source": [
    "cfg = Config.fromfile('configs/sample_config1.py')\n",
    "print(cfg)\n",
    "\n",
    "cfg = Config.fromfile('configs/sample_config2.py')\n",
    "print(cfg)"
   ]
  },
  {
   "cell_type": "markdown",
   "id": "1cdc68b0-12cd-42f0-977c-2b2a9cbaa7f1",
   "metadata": {},
   "source": [
    "You can have multiple bases"
   ]
  },
  {
   "cell_type": "code",
   "execution_count": 54,
   "id": "3af62ad5-5ef4-4a11-9bbd-58c8897fdd43",
   "metadata": {},
   "outputs": [
    {
     "name": "stdout",
     "output_type": "stream",
     "text": [
      "Config (path: configs/sample_config3.py): {'a': 1, 'b': {'b1': [0, 1, 2], 'b2': None}, 'c': (1, 2), 'd': 'string'}\n"
     ]
    }
   ],
   "source": [
    "cfg = Config.fromfile('configs/sample_config3.py')\n",
    "print(cfg)"
   ]
  },
  {
   "cell_type": "markdown",
   "id": "5d2681d6-f370-44c9-94ad-6e870fa7f2e3",
   "metadata": {},
   "source": [
    "There are 4 basic component types under config/_base_, dataset, model, schedule, default_runtime"
   ]
  }
 ],
 "metadata": {
  "kernelspec": {
   "display_name": "mmdetectron",
   "language": "python",
   "name": "mmdetectron"
  },
  "language_info": {
   "codemirror_mode": {
    "name": "ipython",
    "version": 3
   },
   "file_extension": ".py",
   "mimetype": "text/x-python",
   "name": "python",
   "nbconvert_exporter": "python",
   "pygments_lexer": "ipython3",
   "version": "3.8.0"
  }
 },
 "nbformat": 4,
 "nbformat_minor": 5
}
